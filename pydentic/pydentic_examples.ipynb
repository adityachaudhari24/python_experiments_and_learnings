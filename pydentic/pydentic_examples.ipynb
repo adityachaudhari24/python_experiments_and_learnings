{
 "cells": [
  {
   "cell_type": "markdown",
   "id": "f0120ce2",
   "metadata": {},
   "source": [
    "# TODO pydentic examples\n"
   ]
  }
 ],
 "metadata": {
  "language_info": {
   "name": "python"
  }
 },
 "nbformat": 4,
 "nbformat_minor": 5
}
