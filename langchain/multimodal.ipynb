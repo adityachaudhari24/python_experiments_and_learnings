{
 "cells": [
  {
   "cell_type": "markdown",
   "id": "bca32b01",
   "metadata": {},
   "source": [
    "# what is multimodal\n",
    "Multimodal AI refers to artificial intelligence systems that can process and integrate information from multiple input types, or \"modalities,\" such as text, images, audio, and video"
   ]
  },
  {
   "cell_type": "code",
   "execution_count": null,
   "id": "e23f69e0",
   "metadata": {},
   "outputs": [
    {
     "name": "stdout",
     "output_type": "stream",
     "text": [
      "https://oaidalleapiprodscus.blob.core.windows.net/private/org-tVgeaMmL6S494Gzn3S5QjIrO/user-TgXLfRXEBpEjGneWPJOWSvww/img-AkS9GdQ1InXR0C1neiSqgV2i.png?st=2025-08-16T11%3A50%3A16Z&se=2025-08-16T13%3A50%3A16Z&sp=r&sv=2024-08-04&sr=b&rscd=inline&rsct=image/png&skoid=cc612491-d948-4d2e-9821-2683df3719f5&sktid=a48cca56-e6da-484e-a814-9c849652bcb3&skt=2025-08-15T20%3A36%3A00Z&ske=2025-08-16T20%3A36%3A00Z&sks=b&skv=2024-08-04&sig=dHsmb0G51ZagGqXkiC0DeTVjb/%2BXN4TpmRkRFsjWQ9I%3D\n"
     ]
    }
   ],
   "source": [
    "from langchain_community.utilities.dalle_image_generator import DallEAPIWrapper\n",
    "from openai import OpenAI\n",
    "from dotenv import load_dotenv\n",
    "import os\n",
    "\n",
    "# Load environment variables from .env file\n",
    "load_dotenv()\n",
    "\n",
    "dalle = DallEAPIWrapper(\n",
    "   api_key=os.getenv(\"OPENAI_API_KEY\"),\n",
    "   model=\"dall-e-3\",  # Options: \"dall-e-2\" (default) or \"dall-e-3\"\n",
    "   size=\"1024x1024\",       # Image dimensions\n",
    "    quality=\"standard\",     # \"standard\" or \"hd\" for DALL-E 3\n",
    "    n=1                     # Number of images to generate (only for DALL-E 2)\n",
    ")\n",
    "image_url = dalle.run(\"A detailed technical diagram of a quantum computer\")\n",
    "print(image_url)"
   ]
  }
 ],
 "metadata": {
  "kernelspec": {
   "display_name": "langchain_experiments",
   "language": "python",
   "name": "python3"
  },
  "language_info": {
   "codemirror_mode": {
    "name": "ipython",
    "version": 3
   },
   "file_extension": ".py",
   "mimetype": "text/x-python",
   "name": "python",
   "nbconvert_exporter": "python",
   "pygments_lexer": "ipython3",
   "version": "3.11.13"
  }
 },
 "nbformat": 4,
 "nbformat_minor": 5
}
